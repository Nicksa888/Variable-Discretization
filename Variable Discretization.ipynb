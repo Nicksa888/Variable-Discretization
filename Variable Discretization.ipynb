{
 "cells": [
  {
   "cell_type": "markdown",
   "id": "6f80c7cf",
   "metadata": {},
   "source": [
    "# Variable Discretization"
   ]
  },
  {
   "cell_type": "code",
   "execution_count": null,
   "id": "6293b025",
   "metadata": {},
   "outputs": [],
   "source": [
    "Discretization, or binning, is the process of transforming continuous variables into discrete\n",
    "variables by creating a set of contiguous intervals, also called bins, that span the range of\n",
    "the variable values. Discretization is used to change the distribution of skewed variables\n",
    "and to minimize the influence of outliers, and hence improve the performance of some\n",
    "machine learning models.\n",
    "\n",
    "How does discretization minimize the effect of outliers? Discretization places outliers into\n",
    "the lower or higher intervals, together with the remaining inlier values of the distribution.\n",
    "Hence, these outlier observations no longer differ from the rest of the values at the tails of\n",
    "the distribution, as they are now all together in the same interval or bin. Also, if sorting\n",
    "observations across bins with equal frequency, discretization spreads the values of a\n",
    "skewed variable more homogeneously across the value range.\n",
    "\n",
    "This repository covers unsupervised and supervised approaches to variable discretization# "
   ]
  },
  {
   "cell_type": "markdown",
   "id": "438450f5",
   "metadata": {},
   "source": [
    "## Intervals of Equal Width"
   ]
  },
  {
   "cell_type": "markdown",
   "id": "83ba14f6",
   "metadata": {},
   "source": [
    "In equal-width discretization, the variable values are sorted into intervals of the same\n",
    "width. The number of intervals is decided arbitrarily and the width is determined by the\n",
    "range of values of the variable and the number of bins to create.\n",
    "\n",
    "For example, if the values of the variable vary between 0 and 100, we can create five bins\n",
    "like this: width = (100-0) / 5 = 20; the bins will be 0-20, 20-40, 40-60, 80-100. The first and final\n",
    "bins (0-20 and 80-100) can be expanded to accommodate outliers, that is, values under 0 or\n",
    "greater than 100 would be placed in those bins as well, by extending the limits to minus\n",
    "and plus infinity."
   ]
  },
  {
   "cell_type": "code",
   "execution_count": 11,
   "id": "7ac42189",
   "metadata": {},
   "outputs": [],
   "source": [
    "import numpy as np\n",
    "import pandas as pd\n",
    "import matplotlib.pyplot as plt\n",
    "from sklearn.model_selection import train_test_split\n",
    "from sklearn.preprocessing import KBinsDiscretizer\n",
    "from feature_engine.discretisation import EqualWidthDiscretiser"
   ]
  },
  {
   "cell_type": "code",
   "execution_count": 12,
   "id": "86ad65f0",
   "metadata": {},
   "outputs": [
    {
     "data": {
      "text/html": [
       "<div>\n",
       "<style scoped>\n",
       "    .dataframe tbody tr th:only-of-type {\n",
       "        vertical-align: middle;\n",
       "    }\n",
       "\n",
       "    .dataframe tbody tr th {\n",
       "        vertical-align: top;\n",
       "    }\n",
       "\n",
       "    .dataframe thead th {\n",
       "        text-align: right;\n",
       "    }\n",
       "</style>\n",
       "<table border=\"1\" class=\"dataframe\">\n",
       "  <thead>\n",
       "    <tr style=\"text-align: right;\">\n",
       "      <th></th>\n",
       "      <th>CRIM</th>\n",
       "      <th>ZN</th>\n",
       "      <th>INDUS</th>\n",
       "      <th>CHAS</th>\n",
       "      <th>NOX</th>\n",
       "      <th>RM</th>\n",
       "      <th>AGE</th>\n",
       "      <th>DIS</th>\n",
       "      <th>RAD</th>\n",
       "      <th>TAX</th>\n",
       "      <th>PTRATIO</th>\n",
       "      <th>B</th>\n",
       "      <th>LSTAT</th>\n",
       "      <th>MEDV</th>\n",
       "    </tr>\n",
       "  </thead>\n",
       "  <tbody>\n",
       "    <tr>\n",
       "      <th>0</th>\n",
       "      <td>0.00632</td>\n",
       "      <td>18.0</td>\n",
       "      <td>2.31</td>\n",
       "      <td>0</td>\n",
       "      <td>0.538</td>\n",
       "      <td>6.575</td>\n",
       "      <td>65.2</td>\n",
       "      <td>4.0900</td>\n",
       "      <td>1</td>\n",
       "      <td>296</td>\n",
       "      <td>15.3</td>\n",
       "      <td>396.90</td>\n",
       "      <td>4.98</td>\n",
       "      <td>24.0</td>\n",
       "    </tr>\n",
       "    <tr>\n",
       "      <th>1</th>\n",
       "      <td>0.02731</td>\n",
       "      <td>0.0</td>\n",
       "      <td>7.07</td>\n",
       "      <td>0</td>\n",
       "      <td>0.469</td>\n",
       "      <td>6.421</td>\n",
       "      <td>78.9</td>\n",
       "      <td>4.9671</td>\n",
       "      <td>2</td>\n",
       "      <td>242</td>\n",
       "      <td>17.8</td>\n",
       "      <td>396.90</td>\n",
       "      <td>9.14</td>\n",
       "      <td>21.6</td>\n",
       "    </tr>\n",
       "    <tr>\n",
       "      <th>2</th>\n",
       "      <td>0.02729</td>\n",
       "      <td>0.0</td>\n",
       "      <td>7.07</td>\n",
       "      <td>0</td>\n",
       "      <td>0.469</td>\n",
       "      <td>7.185</td>\n",
       "      <td>61.1</td>\n",
       "      <td>4.9671</td>\n",
       "      <td>2</td>\n",
       "      <td>242</td>\n",
       "      <td>17.8</td>\n",
       "      <td>392.83</td>\n",
       "      <td>4.03</td>\n",
       "      <td>34.7</td>\n",
       "    </tr>\n",
       "    <tr>\n",
       "      <th>3</th>\n",
       "      <td>0.03237</td>\n",
       "      <td>0.0</td>\n",
       "      <td>2.18</td>\n",
       "      <td>0</td>\n",
       "      <td>0.458</td>\n",
       "      <td>6.998</td>\n",
       "      <td>45.8</td>\n",
       "      <td>6.0622</td>\n",
       "      <td>3</td>\n",
       "      <td>222</td>\n",
       "      <td>18.7</td>\n",
       "      <td>394.63</td>\n",
       "      <td>2.94</td>\n",
       "      <td>33.4</td>\n",
       "    </tr>\n",
       "    <tr>\n",
       "      <th>4</th>\n",
       "      <td>0.06905</td>\n",
       "      <td>0.0</td>\n",
       "      <td>2.18</td>\n",
       "      <td>0</td>\n",
       "      <td>0.458</td>\n",
       "      <td>7.147</td>\n",
       "      <td>54.2</td>\n",
       "      <td>6.0622</td>\n",
       "      <td>3</td>\n",
       "      <td>222</td>\n",
       "      <td>18.7</td>\n",
       "      <td>396.90</td>\n",
       "      <td>5.33</td>\n",
       "      <td>36.2</td>\n",
       "    </tr>\n",
       "  </tbody>\n",
       "</table>\n",
       "</div>"
      ],
      "text/plain": [
       "      CRIM    ZN  INDUS  CHAS    NOX     RM   AGE     DIS  RAD  TAX  PTRATIO  \\\n",
       "0  0.00632  18.0   2.31     0  0.538  6.575  65.2  4.0900    1  296     15.3   \n",
       "1  0.02731   0.0   7.07     0  0.469  6.421  78.9  4.9671    2  242     17.8   \n",
       "2  0.02729   0.0   7.07     0  0.469  7.185  61.1  4.9671    2  242     17.8   \n",
       "3  0.03237   0.0   2.18     0  0.458  6.998  45.8  6.0622    3  222     18.7   \n",
       "4  0.06905   0.0   2.18     0  0.458  7.147  54.2  6.0622    3  222     18.7   \n",
       "\n",
       "        B  LSTAT  MEDV  \n",
       "0  396.90   4.98  24.0  \n",
       "1  396.90   9.14  21.6  \n",
       "2  392.83   4.03  34.7  \n",
       "3  394.63   2.94  33.4  \n",
       "4  396.90   5.33  36.2  "
      ]
     },
     "execution_count": 12,
     "metadata": {},
     "output_type": "execute_result"
    }
   ],
   "source": [
    "# Load Boston Data Set\n",
    "Boston = pd.read_csv('C:/Python_Data_Sets/Boston.csv')\n",
    "Boston.head()"
   ]
  },
  {
   "cell_type": "markdown",
   "id": "0158e933",
   "metadata": {},
   "source": [
    "The boundaries for the intervals should be learned using variables in the train set\n",
    "only, and then used to discretize the variables in train and test sets. Let's divide the data into train and test sets and their targets:"
   ]
  },
  {
   "cell_type": "code",
   "execution_count": 38,
   "id": "e271d4a3",
   "metadata": {},
   "outputs": [],
   "source": [
    "X_train, X_test, y_train, y_test = train_test_split(\n",
    " Boston.drop('MEDV', axis = 1), Boston['MEDV'], test_size = 0.3,\n",
    " random_state = 0)"
   ]
  },
  {
   "cell_type": "markdown",
   "id": "515b9f39",
   "metadata": {},
   "source": [
    "We will divide the LSTAT continuous variable into 10 intervals. The width of the\n",
    "intervals is given by the value range divided by the number of intervals. Let's calculate the range of the LSTAT variable, that is, the difference between its\n",
    "maximum and minimum values:"
   ]
  },
  {
   "cell_type": "code",
   "execution_count": 39,
   "id": "73835270",
   "metadata": {},
   "outputs": [
    {
     "data": {
      "text/plain": [
       "35.25"
      ]
     },
     "execution_count": 39,
     "metadata": {},
     "output_type": "execute_result"
    }
   ],
   "source": [
    "lstat_range = X_train['LSTAT'].max() - X_train['LSTAT'].min()\n",
    "lstat_range"
   ]
  },
  {
   "cell_type": "markdown",
   "id": "a9305bdf",
   "metadata": {},
   "source": [
    "Let's determine the interval width, which is the variable's value range divided by\n",
    "the number of bins:"
   ]
  },
  {
   "cell_type": "code",
   "execution_count": 40,
   "id": "53d330ac",
   "metadata": {},
   "outputs": [],
   "source": [
    "inter_width = int(lstat_range / 10)"
   ]
  },
  {
   "cell_type": "markdown",
   "id": "8b6f3ad7",
   "metadata": {},
   "source": [
    "The value of lstat_range divided by ten is 3.525. With int(), we capture the\n",
    "integer part of the number, which is 3. \n",
    "Let's capture in new variables, the rounded minimum and maximum values of LSTAT:"
   ]
  },
  {
   "cell_type": "code",
   "execution_count": 41,
   "id": "e6ecccdb",
   "metadata": {},
   "outputs": [],
   "source": [
    "min_value = int(np.floor( X_train['LSTAT'].min()))\n",
    "max_value = int(np.ceil( X_train['LSTAT'].max()))"
   ]
  },
  {
   "cell_type": "markdown",
   "id": "9962241c",
   "metadata": {},
   "source": [
    "Let's print the minimum and maximum values and the interval width "
   ]
  },
  {
   "cell_type": "code",
   "execution_count": 42,
   "id": "15ef4dd3",
   "metadata": {},
   "outputs": [
    {
     "name": "stdout",
     "output_type": "stream",
     "text": [
      "1 37 3\n"
     ]
    }
   ],
   "source": [
    "print(min_value, max_value, inter_width)"
   ]
  },
  {
   "cell_type": "markdown",
   "id": "c2789399",
   "metadata": {},
   "source": [
    "To divide a pandas Series into intervals, we will use pandas' cut() method,\n",
    "which takes as arguments the limits of the intervals. Let's create a list with the interval limits using list comprehension and print out\n",
    "the limits:"
   ]
  },
  {
   "cell_type": "code",
   "execution_count": 43,
   "id": "f1c37c6a",
   "metadata": {},
   "outputs": [
    {
     "data": {
      "text/plain": [
       "[1, 4, 7, 10, 13, 16, 19, 22, 25, 28, 31, 34, 37]"
      ]
     },
     "execution_count": 43,
     "metadata": {},
     "output_type": "execute_result"
    }
   ],
   "source": [
    "intervals = [i for i in range(min_value, max_value + inter_width, inter_width)]\n",
    "intervals"
   ]
  },
  {
   "cell_type": "markdown",
   "id": "9404cdf6",
   "metadata": {},
   "source": [
    "The output of the preceding block provides the limits that we need to pass to\n",
    "pandas' cut() method. Let's discretize LSTAT and capture the discretized variable in a new column in\n",
    "the dataframe:"
   ]
  },
  {
   "cell_type": "code",
   "execution_count": 44,
   "id": "db6ece05",
   "metadata": {},
   "outputs": [],
   "source": [
    "X_train['lstat_disc'] = pd.cut(x = X_train['LSTAT'], bins = intervals, include_lowest = True)"
   ]
  },
  {
   "cell_type": "markdown",
   "id": "b7ccdb83",
   "metadata": {},
   "source": [
    "We set include_lowest = True to include the lowest value in the first\n",
    "interval. Let's print the top 10 observations of the discretized and original variable, side by side:"
   ]
  },
  {
   "cell_type": "code",
   "execution_count": 45,
   "id": "5129e82a",
   "metadata": {},
   "outputs": [
    {
     "name": "stdout",
     "output_type": "stream",
     "text": [
      "     LSTAT    lstat_disc\n",
      "141  34.41  (34.0, 37.0]\n",
      "272   7.73   (7.0, 10.0]\n",
      "135  16.96  (16.0, 19.0]\n",
      "298   4.97    (4.0, 7.0]\n",
      "122  17.93  (16.0, 19.0]\n",
      "22   18.72  (16.0, 19.0]\n",
      "68   13.09  (13.0, 16.0]\n",
      "20   21.02  (19.0, 22.0]\n",
      "437  26.45  (25.0, 28.0]\n",
      "14   10.26  (10.0, 13.0]\n"
     ]
    }
   ],
   "source": [
    "print(X_train[['LSTAT', 'lstat_disc']].head(10))"
   ]
  },
  {
   "cell_type": "markdown",
   "id": "f8952756",
   "metadata": {},
   "source": [
    "We can see in the output that the 34.41 value was allocated to the interval 34-37,\n",
    "the 7.73 value was allocated to the interval 7-10, and so on. In equal-width discretization, there is usually a different number of observations\n",
    "per interval. Let's calculate the number of observations per interval:"
   ]
  },
  {
   "cell_type": "code",
   "execution_count": 46,
   "id": "83faf423",
   "metadata": {},
   "outputs": [
    {
     "data": {
      "text/plain": [
       "lstat_disc\n",
       "(0.999, 4.0]    28\n",
       "(4.0, 7.0]      67\n",
       "(7.0, 10.0]     63\n",
       "(10.0, 13.0]    49\n",
       "(13.0, 16.0]    44\n",
       "(16.0, 19.0]    45\n",
       "(19.0, 22.0]    21\n",
       "(22.0, 25.0]    17\n",
       "(25.0, 28.0]     7\n",
       "(28.0, 31.0]     9\n",
       "(31.0, 34.0]     0\n",
       "(34.0, 37.0]     4\n",
       "Name: LSTAT, dtype: int64"
      ]
     },
     "execution_count": 46,
     "metadata": {},
     "output_type": "execute_result"
    }
   ],
   "source": [
    "X_train.groupby('lstat_disc')['LSTAT'].count()"
   ]
  },
  {
   "cell_type": "markdown",
   "id": "597bb927",
   "metadata": {},
   "source": [
    "In the output of the preceding code, we can see that different intervals have a\n",
    "different number of observations:"
   ]
  },
  {
   "cell_type": "markdown",
   "id": "c07b120c",
   "metadata": {},
   "source": [
    "Now, let's discretize LSTAT in the test set using pandas' cut() method:"
   ]
  },
  {
   "cell_type": "code",
   "execution_count": 47,
   "id": "6a23ef14",
   "metadata": {},
   "outputs": [],
   "source": [
    "X_test['lstat_disc'] = pd.cut(x = X_test['LSTAT'], bins = intervals, include_lowest = True)"
   ]
  },
  {
   "cell_type": "markdown",
   "id": "fe17e8af",
   "metadata": {},
   "source": [
    "If the variable distribution in the train and test sets are similar, we should expect a\n",
    "similar proportion of observations across the LSTAT intervals in the train and test\n",
    "sets. Let's plot the proportion of observations across LSTAT intervals in the train and\n",
    "test sets:"
   ]
  },
  {
   "cell_type": "code",
   "execution_count": 48,
   "id": "12b880ba",
   "metadata": {},
   "outputs": [
    {
     "data": {
      "text/plain": [
       "Text(0, 0.5, 'Number of observations per bin')"
      ]
     },
     "execution_count": 48,
     "metadata": {},
     "output_type": "execute_result"
    },
    {
     "data": {
      "image/png": "[encoded data removed]",
      "text/plain": [
       "<Figure size 432x288 with 1 Axes>"
      ]
     },
     "metadata": {
      "needs_background": "light"
     },
     "output_type": "display_data"
    }
   ],
   "source": [
    "t1 = X_train['lstat_disc'].value_counts() / len(X_train)\n",
    "t2 = X_test['lstat_disc'].value_counts() / len(X_test)\n",
    "tmp = pd.concat([t1, t2], axis = 1)\n",
    "tmp.columns = ['train', 'test']\n",
    "tmp.plot.bar()\n",
    "plt.xticks(rotation = 45)\n",
    "plt.ylabel('Number of observations per bin')"
   ]
  },
  {
   "cell_type": "markdown",
   "id": "b8e16374",
   "metadata": {},
   "source": [
    "We can see in the output that the proportion of observations per interval is\n",
    "approximately the same in the train and test sets. With Feature-engine, we can perform equal-width discretization in fewer lines of\n",
    "code and for many variables at a time. Let's first divide the data into train and test\n",
    "sets. Next, let's set up a discretizer. Let's create an equal-width discretizer to sort 3 continuous variables into 10\n",
    "intervals:"
   ]
  },
  {
   "cell_type": "code",
   "execution_count": 49,
   "id": "f10b14b8",
   "metadata": {},
   "outputs": [],
   "source": [
    "disc = EqualWidthDiscretiser(bins = 10, variables = ['LSTAT', 'DIS', 'RM'])"
   ]
  },
  {
   "cell_type": "markdown",
   "id": "12de004b",
   "metadata": {},
   "source": [
    "Let's fit the discretizer to the train set so that the transformer learns the interval\n",
    "limits for each variable:"
   ]
  },
  {
   "cell_type": "code",
   "execution_count": 50,
   "id": "eeb907ac",
   "metadata": {},
   "outputs": [
    {
     "data": {
      "text/plain": [
       "EqualWidthDiscretiser(variables=['LSTAT', 'DIS', 'RM'])"
      ]
     },
     "execution_count": 50,
     "metadata": {},
     "output_type": "execute_result"
    }
   ],
   "source": [
    "disc.fit(X_train)"
   ]
  },
  {
   "cell_type": "markdown",
   "id": "f12fe640",
   "metadata": {},
   "source": [
    "We can inspect the limits of the intervals in the\n",
    "disc.binner_dict_ attribute."
   ]
  },
  {
   "cell_type": "code",
   "execution_count": 51,
   "id": "a8545f0e",
   "metadata": {},
   "outputs": [
    {
     "data": {
      "text/plain": [
       "{'LSTAT': [-inf,\n",
       "  5.255,\n",
       "  8.78,\n",
       "  12.305,\n",
       "  15.83,\n",
       "  19.355,\n",
       "  22.88,\n",
       "  26.405,\n",
       "  29.93,\n",
       "  33.455,\n",
       "  inf],\n",
       " 'DIS': [-inf,\n",
       "  2.26943,\n",
       "  3.36466,\n",
       "  4.459890000000001,\n",
       "  5.5551200000000005,\n",
       "  6.65035,\n",
       "  7.745580000000001,\n",
       "  8.840810000000001,\n",
       "  9.936040000000002,\n",
       "  11.031270000000003,\n",
       "  inf],\n",
       " 'RM': [-inf,\n",
       "  4.0828999999999995,\n",
       "  4.6048,\n",
       "  5.1267,\n",
       "  5.6486,\n",
       "  6.1705,\n",
       "  6.692399999999999,\n",
       "  7.2143,\n",
       "  7.736199999999999,\n",
       "  8.258099999999999,\n",
       "  inf]}"
      ]
     },
     "execution_count": 51,
     "metadata": {},
     "output_type": "execute_result"
    }
   ],
   "source": [
    "disc.binner_dict_"
   ]
  },
  {
   "cell_type": "markdown",
   "id": "08f47e2e",
   "metadata": {},
   "source": [
    "Let's transform the variables in the train and test sets, that is, let's sort their\n",
    "values into bins:"
   ]
  },
  {
   "cell_type": "code",
   "execution_count": 52,
   "id": "1df32f67",
   "metadata": {},
   "outputs": [],
   "source": [
    "train_t = disc.transform(X_train)\n",
    "test_t = disc.transform(X_test)"
   ]
  },
  {
   "cell_type": "markdown",
   "id": "f0102104",
   "metadata": {},
   "source": [
    "EqualWidthDiscretiser() returns a dataframe where the indicated variables\n",
    "are discretized.\n",
    "EqualWidthDiscretiser() returns a digit indicating whether the value\n",
    "was sorted in the first, second, or tenth bin. If we want to return the bins\n",
    "as an object, we need to indicate return_object = True when we set up\n",
    "the discretizer earlier.\n",
    "Let's now do equal-width discretization with scikit-learn. First, let's divide the\n",
    "original data into train and test sets, as in step 3. Next, we set up a discretizer.\n",
    "Let's create an equal-width discretizer with scikit-learn by setting its strategy\n",
    "to uniform:"
   ]
  },
  {
   "cell_type": "code",
   "execution_count": 53,
   "id": "b404ffff",
   "metadata": {},
   "outputs": [],
   "source": [
    "disc = KBinsDiscretizer(n_bins = 10, encode = 'ordinal', strategy = 'uniform')"
   ]
  },
  {
   "cell_type": "markdown",
   "id": "a04eab93",
   "metadata": {},
   "source": [
    "Let's fit the discretizer to the train set so that the transformer learns the interval\n",
    "limits for each variable:"
   ]
  },
  {
   "cell_type": "code",
   "execution_count": 54,
   "id": "cdf39339",
   "metadata": {},
   "outputs": [
    {
     "data": {
      "text/plain": [
       "KBinsDiscretizer(encode='ordinal', n_bins=10, strategy='uniform')"
      ]
     },
     "execution_count": 54,
     "metadata": {},
     "output_type": "execute_result"
    }
   ],
   "source": [
    "disc.fit(X_train[['LSTAT', 'DIS', 'RM']])"
   ]
  },
  {
   "cell_type": "markdown",
   "id": "6a82effd",
   "metadata": {},
   "source": [
    "Scikit-learn's KBinsDiscretiser() will discretize all of the variables in\n",
    "the dataset, so we need to use the transformer only on the slice of the\n",
    "dataframe that contains the variables to discretize.\n",
    "Finally, let's transform the train and test sets:"
   ]
  },
  {
   "cell_type": "code",
   "execution_count": 55,
   "id": "4dad91ee",
   "metadata": {},
   "outputs": [],
   "source": [
    "train_t = disc.transform(X_train[['LSTAT', 'DIS', 'RM']])\n",
    "test_t = disc.transform(X_test[['LSTAT', 'DIS', 'RM']])"
   ]
  },
  {
   "cell_type": "markdown",
   "id": "fcdf11b5",
   "metadata": {},
   "source": [
    "We can inspect the bin boundaries learned by the transformer by\n",
    "executing disc.bin_edges_.\n",
    "Remember that scikit-learn returns NumPy arrays. To convert the array into a pandas\n",
    "dataframe, we can execute train_t = pd.DataFrame(train_t, columns = ['LSTAT', 'DIS', 'RM'])."
   ]
  },
  {
   "cell_type": "markdown",
   "id": "97a1c170",
   "metadata": {},
   "source": [
    "## Sorting the variable values in intervals of equal frequency"
   ]
  },
  {
   "cell_type": "markdown",
   "id": "1af62152",
   "metadata": {},
   "source": [
    "Equal-frequency discretization divides the values of the variable into intervals that carry\n",
    "the same proportion of observations. The interval width is determined by quantiles, and\n",
    "therefore different intervals may have different widths. In summary, equal-frequency\n",
    "discretization using quantiles consists of dividing the continuous variable into N quantiles,\n",
    "with N to be defined by the user. This discretization technique is particularly useful for\n",
    "skewed variables as it spreads the observations over the different bins equally. In this\n",
    "recipe, we will perform equal-frequency discretization using pandas, scikit-learn, and\n",
    "Feature-engine."
   ]
  },
  {
   "cell_type": "code",
   "execution_count": 66,
   "id": "34eb396e",
   "metadata": {},
   "outputs": [],
   "source": [
    "import pandas as pd\n",
    "from sklearn.model_selection import train_test_split\n",
    "from sklearn.preprocessing import KBinsDiscretizer\n",
    "from feature_engine.discretisation import EqualFrequencyDiscretiser"
   ]
  },
  {
   "cell_type": "code",
   "execution_count": 57,
   "id": "6a09ac90",
   "metadata": {},
   "outputs": [
    {
     "data": {
      "text/html": [
       "<div>\n",
       "<style scoped>\n",
       "    .dataframe tbody tr th:only-of-type {\n",
       "        vertical-align: middle;\n",
       "    }\n",
       "\n",
       "    .dataframe tbody tr th {\n",
       "        vertical-align: top;\n",
       "    }\n",
       "\n",
       "    .dataframe thead th {\n",
       "        text-align: right;\n",
       "    }\n",
       "</style>\n",
       "<table border=\"1\" class=\"dataframe\">\n",
       "  <thead>\n",
       "    <tr style=\"text-align: right;\">\n",
       "      <th></th>\n",
       "      <th>CRIM</th>\n",
       "      <th>ZN</th>\n",
       "      <th>INDUS</th>\n",
       "      <th>CHAS</th>\n",
       "      <th>NOX</th>\n",
       "      <th>RM</th>\n",
       "      <th>AGE</th>\n",
       "      <th>DIS</th>\n",
       "      <th>RAD</th>\n",
       "      <th>TAX</th>\n",
       "      <th>PTRATIO</th>\n",
       "      <th>B</th>\n",
       "      <th>LSTAT</th>\n",
       "      <th>MEDV</th>\n",
       "    </tr>\n",
       "  </thead>\n",
       "  <tbody>\n",
       "    <tr>\n",
       "      <th>0</th>\n",
       "      <td>0.00632</td>\n",
       "      <td>18.0</td>\n",
       "      <td>2.31</td>\n",
       "      <td>0</td>\n",
       "      <td>0.538</td>\n",
       "      <td>6.575</td>\n",
       "      <td>65.2</td>\n",
       "      <td>4.0900</td>\n",
       "      <td>1</td>\n",
       "      <td>296</td>\n",
       "      <td>15.3</td>\n",
       "      <td>396.90</td>\n",
       "      <td>4.98</td>\n",
       "      <td>24.0</td>\n",
       "    </tr>\n",
       "    <tr>\n",
       "      <th>1</th>\n",
       "      <td>0.02731</td>\n",
       "      <td>0.0</td>\n",
       "      <td>7.07</td>\n",
       "      <td>0</td>\n",
       "      <td>0.469</td>\n",
       "      <td>6.421</td>\n",
       "      <td>78.9</td>\n",
       "      <td>4.9671</td>\n",
       "      <td>2</td>\n",
       "      <td>242</td>\n",
       "      <td>17.8</td>\n",
       "      <td>396.90</td>\n",
       "      <td>9.14</td>\n",
       "      <td>21.6</td>\n",
       "    </tr>\n",
       "    <tr>\n",
       "      <th>2</th>\n",
       "      <td>0.02729</td>\n",
       "      <td>0.0</td>\n",
       "      <td>7.07</td>\n",
       "      <td>0</td>\n",
       "      <td>0.469</td>\n",
       "      <td>7.185</td>\n",
       "      <td>61.1</td>\n",
       "      <td>4.9671</td>\n",
       "      <td>2</td>\n",
       "      <td>242</td>\n",
       "      <td>17.8</td>\n",
       "      <td>392.83</td>\n",
       "      <td>4.03</td>\n",
       "      <td>34.7</td>\n",
       "    </tr>\n",
       "    <tr>\n",
       "      <th>3</th>\n",
       "      <td>0.03237</td>\n",
       "      <td>0.0</td>\n",
       "      <td>2.18</td>\n",
       "      <td>0</td>\n",
       "      <td>0.458</td>\n",
       "      <td>6.998</td>\n",
       "      <td>45.8</td>\n",
       "      <td>6.0622</td>\n",
       "      <td>3</td>\n",
       "      <td>222</td>\n",
       "      <td>18.7</td>\n",
       "      <td>394.63</td>\n",
       "      <td>2.94</td>\n",
       "      <td>33.4</td>\n",
       "    </tr>\n",
       "    <tr>\n",
       "      <th>4</th>\n",
       "      <td>0.06905</td>\n",
       "      <td>0.0</td>\n",
       "      <td>2.18</td>\n",
       "      <td>0</td>\n",
       "      <td>0.458</td>\n",
       "      <td>7.147</td>\n",
       "      <td>54.2</td>\n",
       "      <td>6.0622</td>\n",
       "      <td>3</td>\n",
       "      <td>222</td>\n",
       "      <td>18.7</td>\n",
       "      <td>396.90</td>\n",
       "      <td>5.33</td>\n",
       "      <td>36.2</td>\n",
       "    </tr>\n",
       "  </tbody>\n",
       "</table>\n",
       "</div>"
      ],
      "text/plain": [
       "      CRIM    ZN  INDUS  CHAS    NOX     RM   AGE     DIS  RAD  TAX  PTRATIO  \\\n",
       "0  0.00632  18.0   2.31     0  0.538  6.575  65.2  4.0900    1  296     15.3   \n",
       "1  0.02731   0.0   7.07     0  0.469  6.421  78.9  4.9671    2  242     17.8   \n",
       "2  0.02729   0.0   7.07     0  0.469  7.185  61.1  4.9671    2  242     17.8   \n",
       "3  0.03237   0.0   2.18     0  0.458  6.998  45.8  6.0622    3  222     18.7   \n",
       "4  0.06905   0.0   2.18     0  0.458  7.147  54.2  6.0622    3  222     18.7   \n",
       "\n",
       "        B  LSTAT  MEDV  \n",
       "0  396.90   4.98  24.0  \n",
       "1  396.90   9.14  21.6  \n",
       "2  392.83   4.03  34.7  \n",
       "3  394.63   2.94  33.4  \n",
       "4  396.90   5.33  36.2  "
      ]
     },
     "execution_count": 57,
     "metadata": {},
     "output_type": "execute_result"
    }
   ],
   "source": [
    "# Load Boston Data Set\n",
    "Boston = pd.read_csv('C:/Python_Data_Sets/Boston.csv')\n",
    "Boston.head()"
   ]
  },
  {
   "cell_type": "markdown",
   "id": "c8ae7265",
   "metadata": {},
   "source": [
    "The boundaries for the intervals, that is, the quantiles, should be learned using\n",
    "variables in the train set, and then used to discretize the variables in train and test\n",
    "sets. Let's divide the data into train and test sets:"
   ]
  },
  {
   "cell_type": "code",
   "execution_count": 58,
   "id": "a18aa598",
   "metadata": {},
   "outputs": [],
   "source": [
    "X_train, X_test, y_train, y_test = train_test_split(Boston.drop('MEDV', axis = 1), Boston['MEDV'], test_size = 0.3,\n",
    " random_state = 0)"
   ]
  },
  {
   "cell_type": "markdown",
   "id": "6ed8b1b1",
   "metadata": {},
   "source": [
    "To divide the LSTAT variable into 10 quantiles, we use pandas qcut(), which\n",
    "returns both the discretized variable and the quantile limits, which we capture as\n",
    "a column of the dataframe and an individual variable, respectively:"
   ]
  },
  {
   "cell_type": "code",
   "execution_count": 60,
   "id": "d1f79e25",
   "metadata": {},
   "outputs": [],
   "source": [
    "X_train['lstat_disc'], intervals = pd.qcut(X_train['LSTAT'], 10,\n",
    "labels = None, retbins = True)"
   ]
  },
  {
   "cell_type": "code",
   "execution_count": 61,
   "id": "dfeaa7ce",
   "metadata": {},
   "outputs": [
    {
     "name": "stdout",
     "output_type": "stream",
     "text": [
      "[ 1.73   4.623  6.202  7.528  9.5   11.16  13.26  15.565 18.06  22.453\n",
      " 36.98 ]\n"
     ]
    }
   ],
   "source": [
    "print(intervals) "
   ]
  },
  {
   "cell_type": "markdown",
   "id": "8e507307",
   "metadata": {},
   "source": [
    "Let's print the top 10 observations of the discretized and original variable, side by\n",
    "side:"
   ]
  },
  {
   "cell_type": "code",
   "execution_count": 62,
   "id": "30b33a5d",
   "metadata": {},
   "outputs": [
    {
     "name": "stdout",
     "output_type": "stream",
     "text": [
      "     LSTAT       lstat_disc\n",
      "141  34.41  (22.453, 36.98]\n",
      "272   7.73     (7.528, 9.5]\n",
      "135  16.96  (15.565, 18.06]\n",
      "298   4.97   (4.623, 6.202]\n",
      "122  17.93  (15.565, 18.06]\n",
      "22   18.72  (18.06, 22.453]\n",
      "68   13.09   (11.16, 13.26]\n",
      "20   21.02  (18.06, 22.453]\n",
      "437  26.45  (22.453, 36.98]\n",
      "14   10.26     (9.5, 11.16]\n"
     ]
    }
   ],
   "source": [
    "print(X_train[['LSTAT', 'lstat_disc']].head(10))"
   ]
  },
  {
   "cell_type": "markdown",
   "id": "ccf810e7",
   "metadata": {},
   "source": [
    "We can see in the output that the 34.41 value was allocated to the interval 22-36,\n",
    "the 7.73 value was allocated to the interval 7.5-9.5, and so on.  Let's determine the proportion of observations per bin:"
   ]
  },
  {
   "cell_type": "code",
   "execution_count": 63,
   "id": "f2e272a3",
   "metadata": {},
   "outputs": [
    {
     "data": {
      "text/plain": [
       "(7.528, 9.5]       0.104520\n",
       "(1.729, 4.623]     0.101695\n",
       "(13.26, 15.565]    0.101695\n",
       "(15.565, 18.06]    0.101695\n",
       "(22.453, 36.98]    0.101695\n",
       "(4.623, 6.202]     0.098870\n",
       "(6.202, 7.528]     0.098870\n",
       "(11.16, 13.26]     0.098870\n",
       "(9.5, 11.16]       0.096045\n",
       "(18.06, 22.453]    0.096045\n",
       "Name: lstat_disc, dtype: float64"
      ]
     },
     "execution_count": 63,
     "metadata": {},
     "output_type": "execute_result"
    }
   ],
   "source": [
    "X_train['lstat_disc'].value_counts() / len(X_train)"
   ]
  },
  {
   "cell_type": "markdown",
   "id": "b5c88afd",
   "metadata": {},
   "source": [
    "Note how different intervals have a similar proportion of observations in the\n",
    "output of the preceding code block"
   ]
  },
  {
   "cell_type": "code",
   "execution_count": null,
   "id": "a586f44c",
   "metadata": {},
   "outputs": [],
   "source": [
    "Now, let's discretize LSTAT in the test set, using pandas' cut() method and the\n",
    "interval limits determined in an earlier step"
   ]
  },
  {
   "cell_type": "code",
   "execution_count": 64,
   "id": "c1e31092",
   "metadata": {},
   "outputs": [],
   "source": [
    "X_test['lstat_disc'] = pd.cut(x = X_test['LSTAT'], bins = intervals)"
   ]
  },
  {
   "cell_type": "markdown",
   "id": "c68e5ded",
   "metadata": {},
   "source": [
    "We can compare the distribution of observations in the discretized\n",
    "variables of the train and test sets, as we did earlier of the Dividing the\n",
    "variable into intervals of equal width recipe.\n",
    "With Feature-engine, we can perform equal-frequency discretization in fewer\n",
    "steps and for many variables at the time. Let's first divide the data into train and\n",
    "test sets like we did earlier. Next, let's set up a discretizer.\n",
    "Let's create an equal-frequency discretizer to sort the values of three continuous\n",
    "variables into 10 quantiles:"
   ]
  },
  {
   "cell_type": "code",
   "execution_count": 67,
   "id": "f09159d6",
   "metadata": {},
   "outputs": [],
   "source": [
    "disc = EqualFrequencyDiscretiser(q = 10, variables = ['LSTAT', 'DIS', 'RM'])"
   ]
  },
  {
   "cell_type": "markdown",
   "id": "93ca67df",
   "metadata": {},
   "source": [
    "Let's fit the discretizer to the train set so that it learns the quantile limits for each\n",
    "variable:"
   ]
  },
  {
   "cell_type": "code",
   "execution_count": 68,
   "id": "6bfb0863",
   "metadata": {},
   "outputs": [
    {
     "data": {
      "text/plain": [
       "EqualFrequencyDiscretiser(variables=['LSTAT', 'DIS', 'RM'])"
      ]
     },
     "execution_count": 68,
     "metadata": {},
     "output_type": "execute_result"
    }
   ],
   "source": [
    "disc.fit(X_train)"
   ]
  },
  {
   "cell_type": "markdown",
   "id": "ee8e010b",
   "metadata": {},
   "source": [
    "The transformer stores the limits of the intervals for each variable in a\n",
    "dictionary in its disc.binner_dict_ attribute."
   ]
  },
  {
   "cell_type": "code",
   "execution_count": null,
   "id": "8cbecdc5",
   "metadata": {},
   "outputs": [],
   "source": [
    "disc.binner_dict_"
   ]
  },
  {
   "cell_type": "markdown",
   "id": "c5acc1ba",
   "metadata": {},
   "source": [
    "Let's transform the variables in the train and test sets:"
   ]
  },
  {
   "cell_type": "code",
   "execution_count": null,
   "id": "8121b59d",
   "metadata": {},
   "outputs": [],
   "source": [
    "train_t = disc.transform(X_train)\n",
    "test_t = disc.transform(X_test)"
   ]
  },
  {
   "cell_type": "markdown",
   "id": "d65384e9",
   "metadata": {},
   "source": [
    "EqualFrequencyDiscretiser() returns a digit indicating whether the\n",
    "value was sorted in the first, second, or tenth bin. If we want to return the\n",
    "bins as an object, we should indicate return_object = True when we set\n",
    "up the discretizer in an earlier step\n",
    "Let's now do equal-frequency discretization with scikit-learn. First, let's divide the\n",
    "original data into train and test sets, as in an earlier. Next, we set up a discretizer. Let's create an equal-frequency discretizer by setting strategy to quantile and\n",
    "the number of bins to 10:"
   ]
  },
  {
   "cell_type": "code",
   "execution_count": null,
   "id": "7eec5503",
   "metadata": {},
   "outputs": [],
   "source": [
    "disc = KBinsDiscretizer(n_bins = 10, encode = 'ordinal', strategy = 'quantile')"
   ]
  },
  {
   "cell_type": "markdown",
   "id": "2ea0695e",
   "metadata": {},
   "source": [
    "Let's fit the discretizer to the train set so that it learns the interval limits:"
   ]
  },
  {
   "cell_type": "code",
   "execution_count": 69,
   "id": "d5b86b5c",
   "metadata": {},
   "outputs": [
    {
     "data": {
      "text/plain": [
       "EqualFrequencyDiscretiser(variables=['LSTAT', 'DIS', 'RM'])"
      ]
     },
     "execution_count": 69,
     "metadata": {},
     "output_type": "execute_result"
    }
   ],
   "source": [
    "disc.fit(X_train[['LSTAT', 'DIS', 'RM']])"
   ]
  },
  {
   "cell_type": "markdown",
   "id": "8a960103",
   "metadata": {},
   "source": [
    "Scikit-learn's KBinsDiscretiser() will discretize all of the variables in\n",
    "the dataset, so we need to use the transformer only in the slice of the\n",
    "dataframe that contains the variables of interest.\n",
    "Finally, let's transform the train and test sets:"
   ]
  },
  {
   "cell_type": "code",
   "execution_count": 70,
   "id": "621c5ba5",
   "metadata": {},
   "outputs": [],
   "source": [
    "train_t = disc.transform(X_train[['LSTAT', 'DIS', 'RM']])\n",
    "test_t = disc.transform(X_test[['LSTAT', 'DIS', 'RM']])"
   ]
  },
  {
   "cell_type": "markdown",
   "id": "42576f9e",
   "metadata": {},
   "source": [
    "## Performing discretization followed by categorical encoding\n"
   ]
  },
  {
   "cell_type": "code",
   "execution_count": 77,
   "id": "f7464dc6",
   "metadata": {},
   "outputs": [],
   "source": [
    "import pandas as pd\n",
    "import matplotlib.pyplot as plt\n",
    "from sklearn.model_selection import train_test_split\n",
    "from feature_engine.discretisation import EqualFrequencyDiscretiser\n",
    "from feature_engine.encoding import OrdinalEncoder"
   ]
  },
  {
   "cell_type": "code",
   "execution_count": 78,
   "id": "583ef36b",
   "metadata": {},
   "outputs": [
    {
     "data": {
      "text/html": [
       "<div>\n",
       "<style scoped>\n",
       "    .dataframe tbody tr th:only-of-type {\n",
       "        vertical-align: middle;\n",
       "    }\n",
       "\n",
       "    .dataframe tbody tr th {\n",
       "        vertical-align: top;\n",
       "    }\n",
       "\n",
       "    .dataframe thead th {\n",
       "        text-align: right;\n",
       "    }\n",
       "</style>\n",
       "<table border=\"1\" class=\"dataframe\">\n",
       "  <thead>\n",
       "    <tr style=\"text-align: right;\">\n",
       "      <th></th>\n",
       "      <th>CRIM</th>\n",
       "      <th>ZN</th>\n",
       "      <th>INDUS</th>\n",
       "      <th>CHAS</th>\n",
       "      <th>NOX</th>\n",
       "      <th>RM</th>\n",
       "      <th>AGE</th>\n",
       "      <th>DIS</th>\n",
       "      <th>RAD</th>\n",
       "      <th>TAX</th>\n",
       "      <th>PTRATIO</th>\n",
       "      <th>B</th>\n",
       "      <th>LSTAT</th>\n",
       "      <th>MEDV</th>\n",
       "    </tr>\n",
       "  </thead>\n",
       "  <tbody>\n",
       "    <tr>\n",
       "      <th>0</th>\n",
       "      <td>0.00632</td>\n",
       "      <td>18.0</td>\n",
       "      <td>2.31</td>\n",
       "      <td>0</td>\n",
       "      <td>0.538</td>\n",
       "      <td>6.575</td>\n",
       "      <td>65.2</td>\n",
       "      <td>4.0900</td>\n",
       "      <td>1</td>\n",
       "      <td>296</td>\n",
       "      <td>15.3</td>\n",
       "      <td>396.90</td>\n",
       "      <td>4.98</td>\n",
       "      <td>24.0</td>\n",
       "    </tr>\n",
       "    <tr>\n",
       "      <th>1</th>\n",
       "      <td>0.02731</td>\n",
       "      <td>0.0</td>\n",
       "      <td>7.07</td>\n",
       "      <td>0</td>\n",
       "      <td>0.469</td>\n",
       "      <td>6.421</td>\n",
       "      <td>78.9</td>\n",
       "      <td>4.9671</td>\n",
       "      <td>2</td>\n",
       "      <td>242</td>\n",
       "      <td>17.8</td>\n",
       "      <td>396.90</td>\n",
       "      <td>9.14</td>\n",
       "      <td>21.6</td>\n",
       "    </tr>\n",
       "    <tr>\n",
       "      <th>2</th>\n",
       "      <td>0.02729</td>\n",
       "      <td>0.0</td>\n",
       "      <td>7.07</td>\n",
       "      <td>0</td>\n",
       "      <td>0.469</td>\n",
       "      <td>7.185</td>\n",
       "      <td>61.1</td>\n",
       "      <td>4.9671</td>\n",
       "      <td>2</td>\n",
       "      <td>242</td>\n",
       "      <td>17.8</td>\n",
       "      <td>392.83</td>\n",
       "      <td>4.03</td>\n",
       "      <td>34.7</td>\n",
       "    </tr>\n",
       "    <tr>\n",
       "      <th>3</th>\n",
       "      <td>0.03237</td>\n",
       "      <td>0.0</td>\n",
       "      <td>2.18</td>\n",
       "      <td>0</td>\n",
       "      <td>0.458</td>\n",
       "      <td>6.998</td>\n",
       "      <td>45.8</td>\n",
       "      <td>6.0622</td>\n",
       "      <td>3</td>\n",
       "      <td>222</td>\n",
       "      <td>18.7</td>\n",
       "      <td>394.63</td>\n",
       "      <td>2.94</td>\n",
       "      <td>33.4</td>\n",
       "    </tr>\n",
       "    <tr>\n",
       "      <th>4</th>\n",
       "      <td>0.06905</td>\n",
       "      <td>0.0</td>\n",
       "      <td>2.18</td>\n",
       "      <td>0</td>\n",
       "      <td>0.458</td>\n",
       "      <td>7.147</td>\n",
       "      <td>54.2</td>\n",
       "      <td>6.0622</td>\n",
       "      <td>3</td>\n",
       "      <td>222</td>\n",
       "      <td>18.7</td>\n",
       "      <td>396.90</td>\n",
       "      <td>5.33</td>\n",
       "      <td>36.2</td>\n",
       "    </tr>\n",
       "  </tbody>\n",
       "</table>\n",
       "</div>"
      ],
      "text/plain": [
       "      CRIM    ZN  INDUS  CHAS    NOX     RM   AGE     DIS  RAD  TAX  PTRATIO  \\\n",
       "0  0.00632  18.0   2.31     0  0.538  6.575  65.2  4.0900    1  296     15.3   \n",
       "1  0.02731   0.0   7.07     0  0.469  6.421  78.9  4.9671    2  242     17.8   \n",
       "2  0.02729   0.0   7.07     0  0.469  7.185  61.1  4.9671    2  242     17.8   \n",
       "3  0.03237   0.0   2.18     0  0.458  6.998  45.8  6.0622    3  222     18.7   \n",
       "4  0.06905   0.0   2.18     0  0.458  7.147  54.2  6.0622    3  222     18.7   \n",
       "\n",
       "        B  LSTAT  MEDV  \n",
       "0  396.90   4.98  24.0  \n",
       "1  396.90   9.14  21.6  \n",
       "2  392.83   4.03  34.7  \n",
       "3  394.63   2.94  33.4  \n",
       "4  396.90   5.33  36.2  "
      ]
     },
     "execution_count": 78,
     "metadata": {},
     "output_type": "execute_result"
    }
   ],
   "source": [
    "# Load Boston Data Set\n",
    "Boston = pd.read_csv('C:/Python_Data_Sets/Boston.csv')\n",
    "Boston.head()"
   ]
  },
  {
   "cell_type": "markdown",
   "id": "dda8fa7f",
   "metadata": {},
   "source": [
    "The interval limits and order should be learned from the train set, and then used\n",
    "to transform variables in both train and test sets. Let's divide the data into train and test sets:"
   ]
  },
  {
   "cell_type": "code",
   "execution_count": 79,
   "id": "f43bc1af",
   "metadata": {},
   "outputs": [],
   "source": [
    "X_train, X_test, y_train, y_test = train_test_split(data.drop('MEDV', axis = 1), data['MEDV'], test_size = 0.3, random_state = 0)"
   ]
  },
  {
   "cell_type": "markdown",
   "id": "00e01a14",
   "metadata": {},
   "source": [
    "Let's create an equal-frequency discretizer using Feature-engine to divide three\n",
    "continuous variables into 10 quantiles:"
   ]
  },
  {
   "cell_type": "code",
   "execution_count": 80,
   "id": "46c55aa5",
   "metadata": {},
   "outputs": [],
   "source": [
    "disc = EqualFrequencyDiscretiser(q = 10, variables = ['LSTAT', 'DIS', 'RM'], return_object = True)"
   ]
  },
  {
   "cell_type": "markdown",
   "id": "d9007983",
   "metadata": {},
   "source": [
    "With return_object set to True, the transformer will return the\n",
    "discretized variables cast as an object, which is needed to follow up with\n",
    "the ordinal encoder. Let's fit the discretizer to the train set so that it learns the interval limits:"
   ]
  },
  {
   "cell_type": "code",
   "execution_count": 81,
   "id": "9d652328",
   "metadata": {},
   "outputs": [
    {
     "data": {
      "text/plain": [
       "EqualFrequencyDiscretiser(return_object=True, variables=['LSTAT', 'DIS', 'RM'])"
      ]
     },
     "execution_count": 81,
     "metadata": {},
     "output_type": "execute_result"
    }
   ],
   "source": [
    "disc.fit(X_train)"
   ]
  },
  {
   "cell_type": "markdown",
   "id": "4fb061a8",
   "metadata": {},
   "source": [
    "Let's discretize the variables in the train and test sets:"
   ]
  },
  {
   "cell_type": "code",
   "execution_count": 82,
   "id": "28d36c88",
   "metadata": {},
   "outputs": [],
   "source": [
    "train_t = disc.transform(X_train)\n",
    "test_t = disc.transform(X_test)"
   ]
  },
  {
   "cell_type": "markdown",
   "id": "71646e44",
   "metadata": {},
   "source": [
    "Let's explore whether the discretized LSTAT variable shows a monotonic\n",
    "relationship with the target.  Let's concatenate the transformed train set with the target, and plot the target\n",
    "mean per interval of the variable DIS:"
   ]
  },
  {
   "cell_type": "code",
   "execution_count": 83,
   "id": "f639d074",
   "metadata": {},
   "outputs": [
    {
     "data": {
      "image/png": "[encoded data removed]",
      "text/plain": [
       "<Figure size 432x288 with 1 Axes>"
      ]
     },
     "metadata": {
      "needs_background": "light"
     },
     "output_type": "display_data"
    }
   ],
   "source": [
    "pd.concat([train_t, y_train],\n",
    "axis=1).groupby('DIS')['MEDV'].mean().plot()\n",
    "plt.ylabel('mean of survived')\n",
    "plt.show()"
   ]
  },
  {
   "cell_type": "markdown",
   "id": "d40cb7e6",
   "metadata": {},
   "source": [
    "In the output of the preceding code block, we can see that the relationship\n",
    "between DIS intervals and the target MEDV is not monotonic. Let's now re-arrange the interval order following the target mean to create a\n",
    "monotonic relationship: Let's create an ordinal encoder using Feature-engine:"
   ]
  },
  {
   "cell_type": "code",
   "execution_count": 85,
   "id": "1d1897a5",
   "metadata": {},
   "outputs": [],
   "source": [
    "enc = OrdinalEncoder(encoding_method = 'ordered')"
   ]
  },
  {
   "cell_type": "markdown",
   "id": "cfde0f67",
   "metadata": {},
   "source": [
    "Feature-engine's OrdinalEncoder() only works with\n",
    "variables cast as an object. Let's fit the encoder to the train set with the discretized variables:"
   ]
  },
  {
   "cell_type": "code",
   "execution_count": 86,
   "id": "a5881ee0",
   "metadata": {},
   "outputs": [
    {
     "data": {
      "text/plain": [
       "OrdinalEncoder()"
      ]
     },
     "execution_count": 86,
     "metadata": {},
     "output_type": "execute_result"
    }
   ],
   "source": [
    "enc.fit(train_t, y_train)"
   ]
  },
  {
   "cell_type": "markdown",
   "id": "23ca8f85",
   "metadata": {},
   "source": [
    "With the fit() method, the encoder will order the intervals according to the\n",
    "mean target value per interval. \n",
    "OrdinalCategoricalEncoder() will automatically identify the\n",
    "discretized variables as categorical variables and encode them if we leave\n",
    "the variables argument set to None when initializing the transformer in\n",
    "an earlier step. Let's encode the discretized variables:"
   ]
  },
  {
   "cell_type": "code",
   "execution_count": 87,
   "id": "a426fd3d",
   "metadata": {},
   "outputs": [],
   "source": [
    "train_t = enc.transform(train_t)\n",
    "test_t = enc.transform(test_t)"
   ]
  },
  {
   "cell_type": "markdown",
   "id": "5bbf3d4a",
   "metadata": {},
   "source": [
    "## Allocating the variable values in arbitrary intervals"
   ]
  },
  {
   "cell_type": "code",
   "execution_count": null,
   "id": "49c0e8fc",
   "metadata": {},
   "outputs": [],
   "source": [
    "Previously, we have seen how to create intervals based on variable values and\n",
    "distribution. Sometimes, however, we want to divide the variables into intervals, the\n",
    "boundaries of which are arbitrarily determined by the user. In this recipe, we will learn\n",
    "how to discretize a variable into user pre-defined intervals using pandas and the Boston\n",
    "House Prices dataset from scikit-learn."
   ]
  },
  {
   "cell_type": "code",
   "execution_count": 88,
   "id": "92c96d35",
   "metadata": {},
   "outputs": [],
   "source": [
    "import numpy as np\n",
    "import pandas as pd\n",
    "import matplotlib.pyplot as plt\n",
    "from sklearn.model_selection import train_test_split"
   ]
  },
  {
   "cell_type": "code",
   "execution_count": 94,
   "id": "e291f4f9",
   "metadata": {},
   "outputs": [
    {
     "data": {
      "text/html": [
       "<div>\n",
       "<style scoped>\n",
       "    .dataframe tbody tr th:only-of-type {\n",
       "        vertical-align: middle;\n",
       "    }\n",
       "\n",
       "    .dataframe tbody tr th {\n",
       "        vertical-align: top;\n",
       "    }\n",
       "\n",
       "    .dataframe thead th {\n",
       "        text-align: right;\n",
       "    }\n",
       "</style>\n",
       "<table border=\"1\" class=\"dataframe\">\n",
       "  <thead>\n",
       "    <tr style=\"text-align: right;\">\n",
       "      <th></th>\n",
       "      <th>CRIM</th>\n",
       "      <th>ZN</th>\n",
       "      <th>INDUS</th>\n",
       "      <th>CHAS</th>\n",
       "      <th>NOX</th>\n",
       "      <th>RM</th>\n",
       "      <th>AGE</th>\n",
       "      <th>DIS</th>\n",
       "      <th>RAD</th>\n",
       "      <th>TAX</th>\n",
       "      <th>PTRATIO</th>\n",
       "      <th>B</th>\n",
       "      <th>LSTAT</th>\n",
       "      <th>MEDV</th>\n",
       "    </tr>\n",
       "  </thead>\n",
       "  <tbody>\n",
       "    <tr>\n",
       "      <th>0</th>\n",
       "      <td>0.00632</td>\n",
       "      <td>18.0</td>\n",
       "      <td>2.31</td>\n",
       "      <td>0</td>\n",
       "      <td>0.538</td>\n",
       "      <td>6.575</td>\n",
       "      <td>65.2</td>\n",
       "      <td>4.0900</td>\n",
       "      <td>1</td>\n",
       "      <td>296</td>\n",
       "      <td>15.3</td>\n",
       "      <td>396.90</td>\n",
       "      <td>4.98</td>\n",
       "      <td>24.0</td>\n",
       "    </tr>\n",
       "    <tr>\n",
       "      <th>1</th>\n",
       "      <td>0.02731</td>\n",
       "      <td>0.0</td>\n",
       "      <td>7.07</td>\n",
       "      <td>0</td>\n",
       "      <td>0.469</td>\n",
       "      <td>6.421</td>\n",
       "      <td>78.9</td>\n",
       "      <td>4.9671</td>\n",
       "      <td>2</td>\n",
       "      <td>242</td>\n",
       "      <td>17.8</td>\n",
       "      <td>396.90</td>\n",
       "      <td>9.14</td>\n",
       "      <td>21.6</td>\n",
       "    </tr>\n",
       "    <tr>\n",
       "      <th>2</th>\n",
       "      <td>0.02729</td>\n",
       "      <td>0.0</td>\n",
       "      <td>7.07</td>\n",
       "      <td>0</td>\n",
       "      <td>0.469</td>\n",
       "      <td>7.185</td>\n",
       "      <td>61.1</td>\n",
       "      <td>4.9671</td>\n",
       "      <td>2</td>\n",
       "      <td>242</td>\n",
       "      <td>17.8</td>\n",
       "      <td>392.83</td>\n",
       "      <td>4.03</td>\n",
       "      <td>34.7</td>\n",
       "    </tr>\n",
       "    <tr>\n",
       "      <th>3</th>\n",
       "      <td>0.03237</td>\n",
       "      <td>0.0</td>\n",
       "      <td>2.18</td>\n",
       "      <td>0</td>\n",
       "      <td>0.458</td>\n",
       "      <td>6.998</td>\n",
       "      <td>45.8</td>\n",
       "      <td>6.0622</td>\n",
       "      <td>3</td>\n",
       "      <td>222</td>\n",
       "      <td>18.7</td>\n",
       "      <td>394.63</td>\n",
       "      <td>2.94</td>\n",
       "      <td>33.4</td>\n",
       "    </tr>\n",
       "    <tr>\n",
       "      <th>4</th>\n",
       "      <td>0.06905</td>\n",
       "      <td>0.0</td>\n",
       "      <td>2.18</td>\n",
       "      <td>0</td>\n",
       "      <td>0.458</td>\n",
       "      <td>7.147</td>\n",
       "      <td>54.2</td>\n",
       "      <td>6.0622</td>\n",
       "      <td>3</td>\n",
       "      <td>222</td>\n",
       "      <td>18.7</td>\n",
       "      <td>396.90</td>\n",
       "      <td>5.33</td>\n",
       "      <td>36.2</td>\n",
       "    </tr>\n",
       "  </tbody>\n",
       "</table>\n",
       "</div>"
      ],
      "text/plain": [
       "      CRIM    ZN  INDUS  CHAS    NOX     RM   AGE     DIS  RAD  TAX  PTRATIO  \\\n",
       "0  0.00632  18.0   2.31     0  0.538  6.575  65.2  4.0900    1  296     15.3   \n",
       "1  0.02731   0.0   7.07     0  0.469  6.421  78.9  4.9671    2  242     17.8   \n",
       "2  0.02729   0.0   7.07     0  0.469  7.185  61.1  4.9671    2  242     17.8   \n",
       "3  0.03237   0.0   2.18     0  0.458  6.998  45.8  6.0622    3  222     18.7   \n",
       "4  0.06905   0.0   2.18     0  0.458  7.147  54.2  6.0622    3  222     18.7   \n",
       "\n",
       "        B  LSTAT  MEDV  \n",
       "0  396.90   4.98  24.0  \n",
       "1  396.90   9.14  21.6  \n",
       "2  392.83   4.03  34.7  \n",
       "3  394.63   2.94  33.4  \n",
       "4  396.90   5.33  36.2  "
      ]
     },
     "execution_count": 94,
     "metadata": {},
     "output_type": "execute_result"
    }
   ],
   "source": [
    "# Load Boston Data Set\n",
    "Boston = pd.read_csv('C:/Python_Data_Sets/Boston.csv')\n",
    "Boston.head()"
   ]
  },
  {
   "cell_type": "markdown",
   "id": "b6f5e884",
   "metadata": {},
   "source": [
    "Let's divide the data into train and test sets:"
   ]
  },
  {
   "cell_type": "code",
   "execution_count": 111,
   "id": "4a0cbb51",
   "metadata": {},
   "outputs": [],
   "source": [
    "X_train, X_test, y_train, y_test = train_test_split(Boston.drop('MEDV', axis = 1), Boston['MEDV'], test_size = 0.3,\n",
    "random_state = 0)"
   ]
  },
  {
   "cell_type": "markdown",
   "id": "13652378",
   "metadata": {},
   "source": [
    "Let's plot a histogram of the LSTAT variable to find out its value range:"
   ]
  },
  {
   "cell_type": "code",
   "execution_count": 95,
   "id": "017369e8",
   "metadata": {},
   "outputs": [
    {
     "data": {
      "image/png": "[encoded data removed]",
      "text/plain": [
       "<Figure size 432x288 with 1 Axes>"
      ]
     },
     "metadata": {
      "needs_background": "light"
     },
     "output_type": "display_data"
    }
   ],
   "source": [
    "Boston['LSTAT'].hist(bins = 30)\n",
    "plt.show()"
   ]
  },
  {
   "cell_type": "markdown",
   "id": "8f0bfc7b",
   "metadata": {},
   "source": [
    "LSTAT values vary from 0 to approximately 40"
   ]
  },
  {
   "cell_type": "markdown",
   "id": "4ca21ae4",
   "metadata": {},
   "source": [
    "Let's create a list with the arbitrary interval limits, setting the upper limit to\n",
    "infinity to accommodate bigger values:"
   ]
  },
  {
   "cell_type": "code",
   "execution_count": 96,
   "id": "dadd2ed6",
   "metadata": {},
   "outputs": [],
   "source": [
    "intervals = [0, 10, 20, 30, np.Inf]"
   ]
  },
  {
   "cell_type": "markdown",
   "id": "18560d91",
   "metadata": {},
   "source": [
    "Let's create a list with the interval limits as labels, that is, strings:"
   ]
  },
  {
   "cell_type": "code",
   "execution_count": 97,
   "id": "bc14c96c",
   "metadata": {},
   "outputs": [],
   "source": [
    "labels = ['0-10', '10-20', '20-30', '>30']"
   ]
  },
  {
   "cell_type": "markdown",
   "id": "071e4690",
   "metadata": {},
   "source": [
    "Let's discretize the LSTAT variable into the pre-defined limits we determined in\n",
    "a previous step, and capture it in a new variable that takes the label names we created previously as values:"
   ]
  },
  {
   "cell_type": "code",
   "execution_count": 98,
   "id": "271580bb",
   "metadata": {},
   "outputs": [],
   "source": [
    "Boston['lstat_labels'] = pd.cut(Boston['LSTAT'], bins = intervals, labels = labels, include_lowest = True)"
   ]
  },
  {
   "cell_type": "markdown",
   "id": "b68bc294",
   "metadata": {},
   "source": [
    "Now, let's discretize the LSTAT variable into the pre-defined intervals and\n",
    "capture it in a new variable that takes the interval limits as values:\n"
   ]
  },
  {
   "cell_type": "code",
   "execution_count": 99,
   "id": "59f25197",
   "metadata": {},
   "outputs": [],
   "source": [
    "Boston['lstat_intervals'] = pd.cut(Boston['LSTAT'], bins = intervals,\n",
    "labels = None, include_lowest = True)"
   ]
  },
  {
   "cell_type": "markdown",
   "id": "1217c68e",
   "metadata": {},
   "source": [
    "Let's inspect the first five rows of the original and discretized variables:"
   ]
  },
  {
   "cell_type": "code",
   "execution_count": 100,
   "id": "91ffcbd9",
   "metadata": {},
   "outputs": [
    {
     "data": {
      "text/html": [
       "<div>\n",
       "<style scoped>\n",
       "    .dataframe tbody tr th:only-of-type {\n",
       "        vertical-align: middle;\n",
       "    }\n",
       "\n",
       "    .dataframe tbody tr th {\n",
       "        vertical-align: top;\n",
       "    }\n",
       "\n",
       "    .dataframe thead th {\n",
       "        text-align: right;\n",
       "    }\n",
       "</style>\n",
       "<table border=\"1\" class=\"dataframe\">\n",
       "  <thead>\n",
       "    <tr style=\"text-align: right;\">\n",
       "      <th></th>\n",
       "      <th>LSTAT</th>\n",
       "      <th>lstat_labels</th>\n",
       "      <th>lstat_intervals</th>\n",
       "    </tr>\n",
       "  </thead>\n",
       "  <tbody>\n",
       "    <tr>\n",
       "      <th>0</th>\n",
       "      <td>4.98</td>\n",
       "      <td>0-10</td>\n",
       "      <td>(-0.001, 10.0]</td>\n",
       "    </tr>\n",
       "    <tr>\n",
       "      <th>1</th>\n",
       "      <td>9.14</td>\n",
       "      <td>0-10</td>\n",
       "      <td>(-0.001, 10.0]</td>\n",
       "    </tr>\n",
       "    <tr>\n",
       "      <th>2</th>\n",
       "      <td>4.03</td>\n",
       "      <td>0-10</td>\n",
       "      <td>(-0.001, 10.0]</td>\n",
       "    </tr>\n",
       "    <tr>\n",
       "      <th>3</th>\n",
       "      <td>2.94</td>\n",
       "      <td>0-10</td>\n",
       "      <td>(-0.001, 10.0]</td>\n",
       "    </tr>\n",
       "    <tr>\n",
       "      <th>4</th>\n",
       "      <td>5.33</td>\n",
       "      <td>0-10</td>\n",
       "      <td>(-0.001, 10.0]</td>\n",
       "    </tr>\n",
       "  </tbody>\n",
       "</table>\n",
       "</div>"
      ],
      "text/plain": [
       "   LSTAT lstat_labels lstat_intervals\n",
       "0   4.98         0-10  (-0.001, 10.0]\n",
       "1   9.14         0-10  (-0.001, 10.0]\n",
       "2   4.03         0-10  (-0.001, 10.0]\n",
       "3   2.94         0-10  (-0.001, 10.0]\n",
       "4   5.33         0-10  (-0.001, 10.0]"
      ]
     },
     "execution_count": 100,
     "metadata": {},
     "output_type": "execute_result"
    }
   ],
   "source": [
    "Boston[['LSTAT','lstat_labels', 'lstat_intervals']].head()"
   ]
  },
  {
   "cell_type": "markdown",
   "id": "83f819c1",
   "metadata": {},
   "source": [
    "In the last two columns of the dataframe, we see the discretized variables; the first\n",
    "one with the strings we created in a previous step as values, and the second one with the\n",
    "interval limits as returned by pandas' cut() method. Finally, we can count the number of observations within each arbitrarily created interval:"
   ]
  },
  {
   "cell_type": "code",
   "execution_count": 101,
   "id": "674cdfb8",
   "metadata": {},
   "outputs": [
    {
     "data": {
      "text/plain": [
       "(-0.001, 10.0]    219\n",
       "(10.0, 20.0]      213\n",
       "(20.0, 30.0]       62\n",
       "(30.0, inf]        12\n",
       "Name: lstat_intervals, dtype: int64"
      ]
     },
     "execution_count": 101,
     "metadata": {},
     "output_type": "execute_result"
    }
   ],
   "source": [
    "Boston['lstat_intervals'].value_counts()"
   ]
  },
  {
   "cell_type": "markdown",
   "id": "3ea20510",
   "metadata": {},
   "source": [
    "## Performing discretization with k-means clustering"
   ]
  },
  {
   "cell_type": "markdown",
   "id": "ff6b8aa8",
   "metadata": {},
   "source": [
    "In discretization using k-means clustering, the intervals are the clusters identified by the k\u0002means algorithm. The number of clusters (k) is defined by the user. The k-means clustering\n",
    "algorithm has two main steps. In the initialization step, k observations are chosen randomly\n",
    "as the initial centers of the k clusters, and the remaining data points are assigned to the\n",
    "closest cluster. In the iteration step, the centers of the clusters are re-computed as the\n",
    "average points of all of the observations within the cluster, and the observations are\n",
    "reassigned to the newly created closest cluster. The iteration step continues until the\n",
    "optimal k centers are found. Here, we will perform k-means discretization with\n",
    "scikit-learn, using the Boston dataset."
   ]
  },
  {
   "cell_type": "code",
   "execution_count": 102,
   "id": "396e0111",
   "metadata": {},
   "outputs": [],
   "source": [
    "import pandas as pd\n",
    "from sklearn.datasets import load_boston\n",
    "from sklearn.model_selection import train_test_split\n",
    "from sklearn.preprocessing import KBinsDiscretizer"
   ]
  },
  {
   "cell_type": "code",
   "execution_count": 103,
   "id": "ab2ecfdc",
   "metadata": {},
   "outputs": [
    {
     "data": {
      "text/html": [
       "<div>\n",
       "<style scoped>\n",
       "    .dataframe tbody tr th:only-of-type {\n",
       "        vertical-align: middle;\n",
       "    }\n",
       "\n",
       "    .dataframe tbody tr th {\n",
       "        vertical-align: top;\n",
       "    }\n",
       "\n",
       "    .dataframe thead th {\n",
       "        text-align: right;\n",
       "    }\n",
       "</style>\n",
       "<table border=\"1\" class=\"dataframe\">\n",
       "  <thead>\n",
       "    <tr style=\"text-align: right;\">\n",
       "      <th></th>\n",
       "      <th>CRIM</th>\n",
       "      <th>ZN</th>\n",
       "      <th>INDUS</th>\n",
       "      <th>CHAS</th>\n",
       "      <th>NOX</th>\n",
       "      <th>RM</th>\n",
       "      <th>AGE</th>\n",
       "      <th>DIS</th>\n",
       "      <th>RAD</th>\n",
       "      <th>TAX</th>\n",
       "      <th>PTRATIO</th>\n",
       "      <th>B</th>\n",
       "      <th>LSTAT</th>\n",
       "      <th>MEDV</th>\n",
       "    </tr>\n",
       "  </thead>\n",
       "  <tbody>\n",
       "    <tr>\n",
       "      <th>0</th>\n",
       "      <td>0.00632</td>\n",
       "      <td>18.0</td>\n",
       "      <td>2.31</td>\n",
       "      <td>0</td>\n",
       "      <td>0.538</td>\n",
       "      <td>6.575</td>\n",
       "      <td>65.2</td>\n",
       "      <td>4.0900</td>\n",
       "      <td>1</td>\n",
       "      <td>296</td>\n",
       "      <td>15.3</td>\n",
       "      <td>396.90</td>\n",
       "      <td>4.98</td>\n",
       "      <td>24.0</td>\n",
       "    </tr>\n",
       "    <tr>\n",
       "      <th>1</th>\n",
       "      <td>0.02731</td>\n",
       "      <td>0.0</td>\n",
       "      <td>7.07</td>\n",
       "      <td>0</td>\n",
       "      <td>0.469</td>\n",
       "      <td>6.421</td>\n",
       "      <td>78.9</td>\n",
       "      <td>4.9671</td>\n",
       "      <td>2</td>\n",
       "      <td>242</td>\n",
       "      <td>17.8</td>\n",
       "      <td>396.90</td>\n",
       "      <td>9.14</td>\n",
       "      <td>21.6</td>\n",
       "    </tr>\n",
       "    <tr>\n",
       "      <th>2</th>\n",
       "      <td>0.02729</td>\n",
       "      <td>0.0</td>\n",
       "      <td>7.07</td>\n",
       "      <td>0</td>\n",
       "      <td>0.469</td>\n",
       "      <td>7.185</td>\n",
       "      <td>61.1</td>\n",
       "      <td>4.9671</td>\n",
       "      <td>2</td>\n",
       "      <td>242</td>\n",
       "      <td>17.8</td>\n",
       "      <td>392.83</td>\n",
       "      <td>4.03</td>\n",
       "      <td>34.7</td>\n",
       "    </tr>\n",
       "    <tr>\n",
       "      <th>3</th>\n",
       "      <td>0.03237</td>\n",
       "      <td>0.0</td>\n",
       "      <td>2.18</td>\n",
       "      <td>0</td>\n",
       "      <td>0.458</td>\n",
       "      <td>6.998</td>\n",
       "      <td>45.8</td>\n",
       "      <td>6.0622</td>\n",
       "      <td>3</td>\n",
       "      <td>222</td>\n",
       "      <td>18.7</td>\n",
       "      <td>394.63</td>\n",
       "      <td>2.94</td>\n",
       "      <td>33.4</td>\n",
       "    </tr>\n",
       "    <tr>\n",
       "      <th>4</th>\n",
       "      <td>0.06905</td>\n",
       "      <td>0.0</td>\n",
       "      <td>2.18</td>\n",
       "      <td>0</td>\n",
       "      <td>0.458</td>\n",
       "      <td>7.147</td>\n",
       "      <td>54.2</td>\n",
       "      <td>6.0622</td>\n",
       "      <td>3</td>\n",
       "      <td>222</td>\n",
       "      <td>18.7</td>\n",
       "      <td>396.90</td>\n",
       "      <td>5.33</td>\n",
       "      <td>36.2</td>\n",
       "    </tr>\n",
       "  </tbody>\n",
       "</table>\n",
       "</div>"
      ],
      "text/plain": [
       "      CRIM    ZN  INDUS  CHAS    NOX     RM   AGE     DIS  RAD  TAX  PTRATIO  \\\n",
       "0  0.00632  18.0   2.31     0  0.538  6.575  65.2  4.0900    1  296     15.3   \n",
       "1  0.02731   0.0   7.07     0  0.469  6.421  78.9  4.9671    2  242     17.8   \n",
       "2  0.02729   0.0   7.07     0  0.469  7.185  61.1  4.9671    2  242     17.8   \n",
       "3  0.03237   0.0   2.18     0  0.458  6.998  45.8  6.0622    3  222     18.7   \n",
       "4  0.06905   0.0   2.18     0  0.458  7.147  54.2  6.0622    3  222     18.7   \n",
       "\n",
       "        B  LSTAT  MEDV  \n",
       "0  396.90   4.98  24.0  \n",
       "1  396.90   9.14  21.6  \n",
       "2  392.83   4.03  34.7  \n",
       "3  394.63   2.94  33.4  \n",
       "4  396.90   5.33  36.2  "
      ]
     },
     "execution_count": 103,
     "metadata": {},
     "output_type": "execute_result"
    }
   ],
   "source": [
    "# Load Boston Data Set\n",
    "Boston = pd.read_csv('C:/Python_Data_Sets/Boston.csv')\n",
    "Boston.head()"
   ]
  },
  {
   "cell_type": "markdown",
   "id": "8c3f3be5",
   "metadata": {},
   "source": [
    "The k-means optimal clusters should be determined using the train set, so let's\n",
    "divide the data into train and test sets:"
   ]
  },
  {
   "cell_type": "code",
   "execution_count": 104,
   "id": "fdcc38ad",
   "metadata": {},
   "outputs": [],
   "source": [
    "X_train, X_test, y_train, y_test = train_test_split(\n",
    " Boston.drop('MEDV', axis = 1), Boston['MEDV'], test_size  =0.3,\n",
    "random_state = 0)"
   ]
  },
  {
   "cell_type": "markdown",
   "id": "c6122b77",
   "metadata": {},
   "source": [
    "Let's create a discretizer that uses k-means clustering to create 10 intervals by\n",
    "setting strategy to kmeans:"
   ]
  },
  {
   "cell_type": "code",
   "execution_count": 105,
   "id": "d807534e",
   "metadata": {},
   "outputs": [],
   "source": [
    "disc = KBinsDiscretizer(n_bins = 10, encode = 'ordinal',\n",
    "strategy = 'kmeans')"
   ]
  },
  {
   "cell_type": "markdown",
   "id": "2b09e78a",
   "metadata": {},
   "source": [
    "Let's fit the discretizer to the slice of the dataframe that contains the variables to\n",
    "discretize, so that the transformer finds the optimal clusters for each variable:"
   ]
  },
  {
   "cell_type": "code",
   "execution_count": 106,
   "id": "7221a16f",
   "metadata": {},
   "outputs": [
    {
     "data": {
      "text/plain": [
       "KBinsDiscretizer(encode='ordinal', n_bins=10, strategy='kmeans')"
      ]
     },
     "execution_count": 106,
     "metadata": {},
     "output_type": "execute_result"
    }
   ],
   "source": [
    "disc.fit(X_train[['LSTAT', 'DIS', 'RM']])"
   ]
  },
  {
   "cell_type": "markdown",
   "id": "7ecde00e",
   "metadata": {},
   "source": [
    "Let's inspect the limits of each interval or cluster:"
   ]
  },
  {
   "cell_type": "code",
   "execution_count": 107,
   "id": "ba0d411e",
   "metadata": {},
   "outputs": [
    {
     "data": {
      "text/plain": [
       "array([array([ 1.73      ,  5.45330009,  8.65519753, 12.03266667, 15.46755102,\n",
       "              18.89709647, 22.15778075, 25.54037815, 28.75339286, 32.6525    ,\n",
       "              36.98      ])                                                   ,\n",
       "       array([ 1.1742    ,  2.26301884,  3.30153104,  4.48057886,  5.60712611,\n",
       "               6.6482802 ,  7.56131797,  8.45406587,  9.7820881 , 11.37686667,\n",
       "              12.1265    ])                                                   ,\n",
       "       array([3.561     , 3.987125  , 4.73948864, 5.32155682, 5.77285276,\n",
       "              6.14207435, 6.503811  , 6.91447956, 7.43717157, 8.1095049 ,\n",
       "              8.78      ])                                               ],\n",
       "      dtype=object)"
      ]
     },
     "execution_count": 107,
     "metadata": {},
     "output_type": "execute_result"
    }
   ],
   "source": [
    "disc.bin_edges_"
   ]
  },
  {
   "cell_type": "markdown",
   "id": "3581f569",
   "metadata": {},
   "source": [
    "Each array in the above output contains the limits for the 10 clusters for each of the 3 variables, LSTAT,\n",
    "DIS, and RM. Let's discretize the variables in the train set and then capture the returned\n",
    "NumPy array in a dataframe:"
   ]
  },
  {
   "cell_type": "code",
   "execution_count": 108,
   "id": "4ece0b7d",
   "metadata": {},
   "outputs": [],
   "source": [
    "train_t = disc.transform(X_train[['LSTAT', 'DIS', 'RM']])\n",
    "train_t = pd.DataFrame(train_t, columns = ['LSTAT', 'DIS', 'RM'])"
   ]
  },
  {
   "cell_type": "markdown",
   "id": "932ff513",
   "metadata": {},
   "source": [
    "With print(train_t.head()), we can inspect the first five rows of the returned\n",
    "dataframe, where we can see the number assigned to the different intervals or\n",
    "clusters:"
   ]
  },
  {
   "cell_type": "code",
   "execution_count": 109,
   "id": "7498537d",
   "metadata": {},
   "outputs": [
    {
     "name": "stdout",
     "output_type": "stream",
     "text": [
      "   LSTAT  DIS   RM\n",
      "0    9.0  0.0  2.0\n",
      "1    1.0  2.0  6.0\n",
      "2    4.0  0.0  5.0\n",
      "3    0.0  6.0  5.0\n",
      "4    4.0  0.0  4.0\n"
     ]
    }
   ],
   "source": [
    "print(train_t.head())"
   ]
  },
  {
   "cell_type": "markdown",
   "id": "98f8351f",
   "metadata": {},
   "source": [
    "Let's discretize the variables in the test set and then capture the returned NumPy\n",
    "array in a dataframe:"
   ]
  },
  {
   "cell_type": "code",
   "execution_count": 110,
   "id": "f801efa5",
   "metadata": {},
   "outputs": [],
   "source": [
    "test_t = disc.transform(X_test[['LSTAT', 'DIS', 'RM']])\n",
    "test_t = pd.DataFrame(test_t, columns = ['LSTAT', 'DIS', 'RM'])"
   ]
  },
  {
   "cell_type": "markdown",
   "id": "966b2d71",
   "metadata": {},
   "source": [
    "## Using decision trees for discretization"
   ]
  },
  {
   "cell_type": "markdown",
   "id": "e83d87a4",
   "metadata": {},
   "source": [
    "Discretization with decision trees consists of using a decision tree to identify the optimal\n",
    "bins in which to sort the variable values. The decision tree is built using the variable to\n",
    "discretize, and the target. When a decision tree makes a prediction, it assigns an\n",
    "observation to one of N end leaves, therefore, any decision tree will generate a discrete\n",
    "output, the values of which are the predictions at each of its N leaves. Discretization with\n",
    "decision trees creates a monotonic relationship between the bins and the target. In this\n",
    "recipe, we will perform decision tree-based discretization using scikit-learn and then\n",
    "automate the procedure with Feature-engine."
   ]
  },
  {
   "cell_type": "code",
   "execution_count": 125,
   "id": "2cc9310a",
   "metadata": {},
   "outputs": [],
   "source": [
    "import pandas as pd\n",
    "import matplotlib.pyplot as plt\n",
    "from sklearn.model_selection import train_test_split\n",
    "from sklearn.tree import DecisionTreeRegressor\n",
    "from feature_engine.discretisation import DecisionTreeDiscretiser"
   ]
  },
  {
   "cell_type": "code",
   "execution_count": 126,
   "id": "ed4c746f",
   "metadata": {},
   "outputs": [
    {
     "data": {
      "text/html": [
       "<div>\n",
       "<style scoped>\n",
       "    .dataframe tbody tr th:only-of-type {\n",
       "        vertical-align: middle;\n",
       "    }\n",
       "\n",
       "    .dataframe tbody tr th {\n",
       "        vertical-align: top;\n",
       "    }\n",
       "\n",
       "    .dataframe thead th {\n",
       "        text-align: right;\n",
       "    }\n",
       "</style>\n",
       "<table border=\"1\" class=\"dataframe\">\n",
       "  <thead>\n",
       "    <tr style=\"text-align: right;\">\n",
       "      <th></th>\n",
       "      <th>CRIM</th>\n",
       "      <th>ZN</th>\n",
       "      <th>INDUS</th>\n",
       "      <th>CHAS</th>\n",
       "      <th>NOX</th>\n",
       "      <th>RM</th>\n",
       "      <th>AGE</th>\n",
       "      <th>DIS</th>\n",
       "      <th>RAD</th>\n",
       "      <th>TAX</th>\n",
       "      <th>PTRATIO</th>\n",
       "      <th>B</th>\n",
       "      <th>LSTAT</th>\n",
       "      <th>MEDV</th>\n",
       "    </tr>\n",
       "  </thead>\n",
       "  <tbody>\n",
       "    <tr>\n",
       "      <th>0</th>\n",
       "      <td>0.00632</td>\n",
       "      <td>18.0</td>\n",
       "      <td>2.31</td>\n",
       "      <td>0</td>\n",
       "      <td>0.538</td>\n",
       "      <td>6.575</td>\n",
       "      <td>65.2</td>\n",
       "      <td>4.0900</td>\n",
       "      <td>1</td>\n",
       "      <td>296</td>\n",
       "      <td>15.3</td>\n",
       "      <td>396.90</td>\n",
       "      <td>4.98</td>\n",
       "      <td>24.0</td>\n",
       "    </tr>\n",
       "    <tr>\n",
       "      <th>1</th>\n",
       "      <td>0.02731</td>\n",
       "      <td>0.0</td>\n",
       "      <td>7.07</td>\n",
       "      <td>0</td>\n",
       "      <td>0.469</td>\n",
       "      <td>6.421</td>\n",
       "      <td>78.9</td>\n",
       "      <td>4.9671</td>\n",
       "      <td>2</td>\n",
       "      <td>242</td>\n",
       "      <td>17.8</td>\n",
       "      <td>396.90</td>\n",
       "      <td>9.14</td>\n",
       "      <td>21.6</td>\n",
       "    </tr>\n",
       "    <tr>\n",
       "      <th>2</th>\n",
       "      <td>0.02729</td>\n",
       "      <td>0.0</td>\n",
       "      <td>7.07</td>\n",
       "      <td>0</td>\n",
       "      <td>0.469</td>\n",
       "      <td>7.185</td>\n",
       "      <td>61.1</td>\n",
       "      <td>4.9671</td>\n",
       "      <td>2</td>\n",
       "      <td>242</td>\n",
       "      <td>17.8</td>\n",
       "      <td>392.83</td>\n",
       "      <td>4.03</td>\n",
       "      <td>34.7</td>\n",
       "    </tr>\n",
       "    <tr>\n",
       "      <th>3</th>\n",
       "      <td>0.03237</td>\n",
       "      <td>0.0</td>\n",
       "      <td>2.18</td>\n",
       "      <td>0</td>\n",
       "      <td>0.458</td>\n",
       "      <td>6.998</td>\n",
       "      <td>45.8</td>\n",
       "      <td>6.0622</td>\n",
       "      <td>3</td>\n",
       "      <td>222</td>\n",
       "      <td>18.7</td>\n",
       "      <td>394.63</td>\n",
       "      <td>2.94</td>\n",
       "      <td>33.4</td>\n",
       "    </tr>\n",
       "    <tr>\n",
       "      <th>4</th>\n",
       "      <td>0.06905</td>\n",
       "      <td>0.0</td>\n",
       "      <td>2.18</td>\n",
       "      <td>0</td>\n",
       "      <td>0.458</td>\n",
       "      <td>7.147</td>\n",
       "      <td>54.2</td>\n",
       "      <td>6.0622</td>\n",
       "      <td>3</td>\n",
       "      <td>222</td>\n",
       "      <td>18.7</td>\n",
       "      <td>396.90</td>\n",
       "      <td>5.33</td>\n",
       "      <td>36.2</td>\n",
       "    </tr>\n",
       "  </tbody>\n",
       "</table>\n",
       "</div>"
      ],
      "text/plain": [
       "      CRIM    ZN  INDUS  CHAS    NOX     RM   AGE     DIS  RAD  TAX  PTRATIO  \\\n",
       "0  0.00632  18.0   2.31     0  0.538  6.575  65.2  4.0900    1  296     15.3   \n",
       "1  0.02731   0.0   7.07     0  0.469  6.421  78.9  4.9671    2  242     17.8   \n",
       "2  0.02729   0.0   7.07     0  0.469  7.185  61.1  4.9671    2  242     17.8   \n",
       "3  0.03237   0.0   2.18     0  0.458  6.998  45.8  6.0622    3  222     18.7   \n",
       "4  0.06905   0.0   2.18     0  0.458  7.147  54.2  6.0622    3  222     18.7   \n",
       "\n",
       "        B  LSTAT  MEDV  \n",
       "0  396.90   4.98  24.0  \n",
       "1  396.90   9.14  21.6  \n",
       "2  392.83   4.03  34.7  \n",
       "3  394.63   2.94  33.4  \n",
       "4  396.90   5.33  36.2  "
      ]
     },
     "execution_count": 126,
     "metadata": {},
     "output_type": "execute_result"
    }
   ],
   "source": [
    "# Load Boston Data Set\n",
    "Boston = pd.read_csv('C:/Python_Data_Sets/Boston.csv')\n",
    "Boston.head()"
   ]
  },
  {
   "cell_type": "markdown",
   "id": "08598b6a",
   "metadata": {},
   "source": [
    "Let's divide the data into train and test sets:"
   ]
  },
  {
   "cell_type": "code",
   "execution_count": 127,
   "id": "4b8cfd4e",
   "metadata": {},
   "outputs": [],
   "source": [
    "X_train, X_test, y_train, y_test = train_test_split(\n",
    "Boston.drop('MEDV', axis = 1), Boston['MEDV'], test_size = 0.3,\n",
    "random_state = 0)"
   ]
  },
  {
   "cell_type": "markdown",
   "id": "4b80660d",
   "metadata": {},
   "source": [
    "Let's assemble a decision tree to predict the MEDV target, setting the maximum\n",
    "depth to 3 and random_state for reproducibility:"
   ]
  },
  {
   "cell_type": "code",
   "execution_count": 128,
   "id": "d25381d3",
   "metadata": {},
   "outputs": [],
   "source": [
    "tree_model = DecisionTreeRegressor(max_depth = 3, random_state = 0)"
   ]
  },
  {
   "cell_type": "markdown",
   "id": "6d2da45b",
   "metadata": {},
   "source": [
    "For binary classification, we would use DecisionTreeClassifier()\n",
    "instead. Let's fit the decision tree using the LSTAT variable to predict the MEDV target:"
   ]
  },
  {
   "cell_type": "code",
   "execution_count": 129,
   "id": "8351b915",
   "metadata": {},
   "outputs": [
    {
     "data": {
      "text/plain": [
       "DecisionTreeRegressor(max_depth=3, random_state=0)"
      ]
     },
     "execution_count": 129,
     "metadata": {},
     "output_type": "execute_result"
    }
   ],
   "source": [
    "tree_model.fit(X_train['LSTAT'].to_frame(), y_train)"
   ]
  },
  {
   "cell_type": "markdown",
   "id": "a92e62a1",
   "metadata": {},
   "source": [
    "Scikit-learn predictors take dataframes as inputs. A single variable is a\n",
    "pandas Series, so we need to use the to_frame() method to transform it\n",
    "into a dataframe and make it compatible with scikit-learn. Let's now predict MEDV from LSTAT and capture the output in a new variable in\n",
    "the train set:"
   ]
  },
  {
   "cell_type": "code",
   "execution_count": 130,
   "id": "5bb218b4",
   "metadata": {},
   "outputs": [],
   "source": [
    "X_train['lstat_tree'] = tree_model.predict(X_train['LSTAT'].to_frame())"
   ]
  },
  {
   "cell_type": "markdown",
   "id": "eea1a30a",
   "metadata": {},
   "source": [
    "If we created a classification tree, we would use predict_proba() and\n",
    "retain the second column of the array, which is the probability of the\n",
    "target being 1; hence, we would\n",
    "execute: tree_model.predict_proba(X_train['LSTAT'].to_frame())[:,1]"
   ]
  },
  {
   "cell_type": "markdown",
   "id": "9b9ba550",
   "metadata": {},
   "source": [
    "Let's explore the end leaves, that is, bins, the tree created:"
   ]
  },
  {
   "cell_type": "code",
   "execution_count": 132,
   "id": "4e0a5b00",
   "metadata": {},
   "outputs": [
    {
     "data": {
      "text/plain": [
       "array([12.91724138, 27.15384615, 16.36181818, 32.04285714, 20.555     ,\n",
       "       34.88333333, 23.71388889, 41.80740741])"
      ]
     },
     "execution_count": 132,
     "metadata": {},
     "output_type": "execute_result"
    }
   ],
   "source": [
    "X_train['lstat_tree'].unique()"
   ]
  },
  {
   "cell_type": "markdown",
   "id": "b1a1935f",
   "metadata": {},
   "source": [
    "The decision tree produced eight different distinct predictions for all of the\n",
    "observations of the LSTAT variable in the output above. Let's now discretize the LSTAT variable in the test set:"
   ]
  },
  {
   "cell_type": "code",
   "execution_count": 133,
   "id": "83b235ad",
   "metadata": {},
   "outputs": [],
   "source": [
    "X_test['lstat_tree'] = tree_model.predict(X_test['LSTAT'].to_frame())"
   ]
  },
  {
   "cell_type": "markdown",
   "id": "850c67c5",
   "metadata": {},
   "source": [
    "Let's concatenate the test set with the target to plot the predictions versus the\n",
    "mean of the MEDV target per bin:"
   ]
  },
  {
   "cell_type": "code",
   "execution_count": 134,
   "id": "ca9f5c89",
   "metadata": {},
   "outputs": [
    {
     "data": {
      "image/png": "[encoded data removed]",
      "text/plain": [
       "<Figure size 432x288 with 1 Axes>"
      ]
     },
     "metadata": {
      "needs_background": "light"
     },
     "output_type": "display_data"
    }
   ],
   "source": [
    "pd.concat([X_test, y_test], axis = 1).groupby(['lstat_tree'])['MEDV'].mean().plot()\n",
    "plt.title('Monotonic relationship between discretised LSTAT and target')\n",
    "plt.ylabel('MEDV')\n",
    "plt.show()"
   ]
  },
  {
   "cell_type": "markdown",
   "id": "dc3f63aa",
   "metadata": {},
   "source": [
    "We can observe the monotonic relationship between the tree-derived intervals\n",
    "and the MEDV target in the output of the preceding code block"
   ]
  },
  {
   "cell_type": "markdown",
   "id": "209cd000",
   "metadata": {},
   "source": [
    "Now let's implement decision tree discretization with Feature-engine. With\n",
    "Feature-engine, we can discretize multiple variables in just a few lines of code.\n",
    "First, we need to divide the dataset into train and test sets"
   ]
  },
  {
   "cell_type": "code",
   "execution_count": 135,
   "id": "766626f7",
   "metadata": {},
   "outputs": [],
   "source": [
    "X_train, X_test, y_train, y_test = train_test_split(\n",
    "Boston.drop('MEDV', axis = 1), Boston['MEDV'], test_size = 0.3,\n",
    "random_state = 0)"
   ]
  },
  {
   "cell_type": "markdown",
   "id": "174c57d3",
   "metadata": {},
   "source": [
    "Now, let's create a decision tree discretizer, which will optimize the maximum\n",
    "depth of the tree based on the negative mean square error metric using 10 - fold\n",
    "cross-validation, for the LSTAT, RM, and DIS variables:"
   ]
  },
  {
   "cell_type": "code",
   "execution_count": 141,
   "id": "26fb0ff7",
   "metadata": {},
   "outputs": [],
   "source": [
    "treeDisc = DecisionTreeDiscretiser(cv = 10, scoring = 'neg_mean_squared_error',variables = ['LSTAT', 'RM', 'DIS'],\n",
    "regression = True, param_grid = {'max_depth': [1,2,3,4]})"
   ]
  },
  {
   "cell_type": "markdown",
   "id": "85f5bb69",
   "metadata": {},
   "source": [
    "If we were setting up a classification tree, we would use\n",
    "DecisionTreeClassifier() instead and set regression to False. We\n",
    "would also have to use metrics for classification such as roc_auc_score.  Let's fit() the discretizer using the train set and the target so that the discretizer\n",
    "finds the best decision trees, utilizing the provided grid of parameters for each of\n",
    "the variables indicated in the list:"
   ]
  },
  {
   "cell_type": "code",
   "execution_count": 142,
   "id": "7e54bf13",
   "metadata": {},
   "outputs": [
    {
     "data": {
      "text/plain": [
       "DecisionTreeDiscretiser(cv=10, param_grid={'max_depth': [1, 2, 3, 4]},\n",
       "                        variables=['LSTAT', 'RM', 'DIS'])"
      ]
     },
     "execution_count": 142,
     "metadata": {},
     "output_type": "execute_result"
    }
   ],
   "source": [
    "treeDisc.fit(X_train, y_train)"
   ]
  },
  {
   "cell_type": "markdown",
   "id": "35b12cf0",
   "metadata": {},
   "source": [
    "Let's inspect the best parameters for the tree trained for the LSTAT variable:"
   ]
  },
  {
   "cell_type": "code",
   "execution_count": 147,
   "id": "256e4ec9",
   "metadata": {},
   "outputs": [
    {
     "data": {
      "text/plain": [
       "{'max_depth': 3}"
      ]
     },
     "execution_count": 147,
     "metadata": {},
     "output_type": "execute_result"
    }
   ],
   "source": [
    "treeDisc.binner_dict_['LSTAT'].best_params_"
   ]
  },
  {
   "cell_type": "code",
   "execution_count": null,
   "id": "9651522a",
   "metadata": {},
   "outputs": [],
   "source": [
    "The output of the preceding code shows that the optimal depth for the decision\n",
    "tree is 3: "
   ]
  },
  {
   "cell_type": "markdown",
   "id": "cee4a571",
   "metadata": {},
   "source": [
    "Let's transform the variables in the train and test sets:"
   ]
  },
  {
   "cell_type": "code",
   "execution_count": 148,
   "id": "4295dfb2",
   "metadata": {},
   "outputs": [],
   "source": [
    "train_t = treeDisc.transform(X_train)\n",
    "test_t = treeDisc.transform(X_test)"
   ]
  },
  {
   "cell_type": "code",
   "execution_count": null,
   "id": "f5df2cff",
   "metadata": {},
   "outputs": [],
   "source": [
    "We can perform decision tree discretization with scikit-learn within a grid search to find the\n",
    "optimal parameters to determine the most predictive decision tree. To do so, we first do the\n",
    "imports, as done previously, and we add one additional import"
   ]
  },
  {
   "cell_type": "code",
   "execution_count": 149,
   "id": "d0236007",
   "metadata": {},
   "outputs": [],
   "source": [
    "import pandas as pd\n",
    "import matplotlib.pyplot as plt\n",
    "from sklearn.model_selection import train_test_split\n",
    "from sklearn.tree import DecisionTreeRegressor\n",
    "from feature_engine.discretisation import DecisionTreeDiscretiser\n",
    "from sklearn.model_selection import GridSearchCV"
   ]
  },
  {
   "cell_type": "markdown",
   "id": "59d74e19",
   "metadata": {},
   "source": [
    "Next, let's load the dataset and divide it into train and test sets, as done in previous steps, and now let's set up a parameter search grid.\n",
    "Let's set up a dictionary with the parameters we would like to test, in this case, four different tree depths:"
   ]
  },
  {
   "cell_type": "code",
   "execution_count": 150,
   "id": "8152dbe5",
   "metadata": {},
   "outputs": [],
   "source": [
    "param_grid = {'max_depth': [1, 2, 3, 4]}"
   ]
  },
  {
   "cell_type": "markdown",
   "id": "97dd3356",
   "metadata": {},
   "source": [
    "Let's now set up the decision tree inside a grid search with 5-fold cross-validation\n",
    "and the negative mean squared error as a metric to optimize:"
   ]
  },
  {
   "cell_type": "code",
   "execution_count": 151,
   "id": "4aecc4ee",
   "metadata": {},
   "outputs": [],
   "source": [
    "tree_model = GridSearchCV(DecisionTreeRegressor(random_state = 0),\n",
    " cv = 5,\n",
    " scoring = 'neg_mean_squared_error',\n",
    " param_grid = param_grid)"
   ]
  },
  {
   "cell_type": "markdown",
   "id": "416c67dc",
   "metadata": {},
   "source": [
    "Let's fit the tree to the LSTAT variable and the target:"
   ]
  },
  {
   "cell_type": "code",
   "execution_count": 152,
   "id": "222c8330",
   "metadata": {},
   "outputs": [
    {
     "data": {
      "text/plain": [
       "GridSearchCV(cv=5, estimator=DecisionTreeRegressor(random_state=0),\n",
       "             param_grid={'max_depth': [1, 2, 3, 4]},\n",
       "             scoring='neg_mean_squared_error')"
      ]
     },
     "execution_count": 152,
     "metadata": {},
     "output_type": "execute_result"
    }
   ],
   "source": [
    "tree_model.fit(X_train['LSTAT'].to_frame(), y_train)"
   ]
  },
  {
   "cell_type": "markdown",
   "id": "4d4d89da",
   "metadata": {},
   "source": [
    "Finally, let's transform the variables with the best decision tree:"
   ]
  },
  {
   "cell_type": "code",
   "execution_count": 153,
   "id": "4714193a",
   "metadata": {},
   "outputs": [],
   "source": [
    "X_train['lstat_tree'] = tree_model.predict(X_train['LSTAT'].to_frame())\n",
    "X_test['lstat_tree'] = tree_model.predict(X_test['LSTAT'].to_frame())"
   ]
  },
  {
   "cell_type": "code",
   "execution_count": null,
   "id": "d0ac014d",
   "metadata": {},
   "outputs": [],
   "source": []
  }
 ],
 "metadata": {
  "kernelspec": {
   "display_name": "Python 3 (ipykernel)",
   "language": "python",
   "name": "python3"
  },
  "language_info": {
   "codemirror_mode": {
    "name": "ipython",
    "version": 3
   },
   "file_extension": ".py",
   "mimetype": "text/x-python",
   "name": "python",
   "nbconvert_exporter": "python",
   "pygments_lexer": "ipython3",
   "version": "3.10.0"
  }
 },
 "nbformat": 4,
 "nbformat_minor": 5
}
